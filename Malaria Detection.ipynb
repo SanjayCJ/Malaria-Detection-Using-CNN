{
  "nbformat": 4,
  "nbformat_minor": 0,
  "metadata": {
    "kernelspec": {
      "display_name": "Python 3",
      "language": "python",
      "name": "python3"
    },
    "language_info": {
      "codemirror_mode": {
        "name": "ipython",
        "version": 3
      },
      "file_extension": ".py",
      "mimetype": "text/x-python",
      "name": "python",
      "nbconvert_exporter": "python",
      "pygments_lexer": "ipython3",
      "version": "3.7.6"
    },
    "colab": {
      "name": "Untitled.ipynb",
      "provenance": []
    },
    "accelerator": "TPU"
  },
  "cells": [
    {
      "cell_type": "code",
      "metadata": {
        "id": "B0g0GdaKgu9n",
        "colab_type": "code",
        "colab": {
          "base_uri": "https://localhost:8080/",
          "height": 34
        },
        "outputId": "7b923d4e-b98d-474f-a1b3-8439efbd9d63"
      },
      "source": [
        "from google.colab import drive\n",
        "drive.mount('/content/drive')"
      ],
      "execution_count": 43,
      "outputs": [
        {
          "output_type": "stream",
          "text": [
            "Drive already mounted at /content/drive; to attempt to forcibly remount, call drive.mount(\"/content/drive\", force_remount=True).\n"
          ],
          "name": "stdout"
        }
      ]
    },
    {
      "cell_type": "markdown",
      "metadata": {
        "id": "QQ5sYqQeDaTM",
        "colab_type": "text"
      },
      "source": [
        "**Importing requried Libraries**"
      ]
    },
    {
      "cell_type": "code",
      "metadata": {
        "id": "-DsHteTLgvse",
        "colab_type": "code",
        "colab": {}
      },
      "source": [
        "# import the libraries as shown below\n",
        "\n",
        "from tensorflow.keras.layers import Input, Lambda, Dense, Flatten,Conv2D\n",
        "from tensorflow.keras.models import Model\n",
        "from tensorflow.keras.applications.vgg19 import VGG19\n",
        "from tensorflow.keras.applications.resnet50 import preprocess_input\n",
        "from tensorflow.keras.preprocessing import image\n",
        "from tensorflow.keras.preprocessing.image import ImageDataGenerator,load_img\n",
        "from tensorflow.keras.models import Sequential\n",
        "import numpy as np\n",
        "from glob import glob\n",
        "import matplotlib.pyplot as plt"
      ],
      "execution_count": 44,
      "outputs": []
    },
    {
      "cell_type": "code",
      "metadata": {
        "id": "7SPSRZO_kAL-",
        "colab_type": "code",
        "colab": {}
      },
      "source": [
        "# re-size all the images to this\n",
        "IMAGE_SIZE = [224,224]\n",
        "\n",
        "train_path='/content/drive/My Drive/Malaria Detection /Dataset/Train'\n",
        "valid_path='/content/drive/My Drive/Malaria Detection /Dataset/Test'"
      ],
      "execution_count": 45,
      "outputs": []
    },
    {
      "cell_type": "code",
      "metadata": {
        "id": "f8JOg7fklY_C",
        "colab_type": "code",
        "colab": {}
      },
      "source": [
        "# Import the Vgg 19 library as shown below and add preprocessing layer to the front of VGG\n",
        "# Here we will be using imagenet weights\n",
        "\n",
        "vgg19 = VGG19(input_shape=IMAGE_SIZE + [3], weights='imagenet', include_top=False)"
      ],
      "execution_count": 46,
      "outputs": []
    },
    {
      "cell_type": "code",
      "metadata": {
        "id": "RLL1EWt8rl-I",
        "colab_type": "code",
        "colab": {
          "base_uri": "https://localhost:8080/",
          "height": 916
        },
        "outputId": "f6346712-8097-4b17-8e0a-709947f6542e"
      },
      "source": [
        "vgg19.summary()"
      ],
      "execution_count": 47,
      "outputs": [
        {
          "output_type": "stream",
          "text": [
            "Model: \"vgg19\"\n",
            "_________________________________________________________________\n",
            "Layer (type)                 Output Shape              Param #   \n",
            "=================================================================\n",
            "input_3 (InputLayer)         [(None, 224, 224, 3)]     0         \n",
            "_________________________________________________________________\n",
            "block1_conv1 (Conv2D)        (None, 224, 224, 64)      1792      \n",
            "_________________________________________________________________\n",
            "block1_conv2 (Conv2D)        (None, 224, 224, 64)      36928     \n",
            "_________________________________________________________________\n",
            "block1_pool (MaxPooling2D)   (None, 112, 112, 64)      0         \n",
            "_________________________________________________________________\n",
            "block2_conv1 (Conv2D)        (None, 112, 112, 128)     73856     \n",
            "_________________________________________________________________\n",
            "block2_conv2 (Conv2D)        (None, 112, 112, 128)     147584    \n",
            "_________________________________________________________________\n",
            "block2_pool (MaxPooling2D)   (None, 56, 56, 128)       0         \n",
            "_________________________________________________________________\n",
            "block3_conv1 (Conv2D)        (None, 56, 56, 256)       295168    \n",
            "_________________________________________________________________\n",
            "block3_conv2 (Conv2D)        (None, 56, 56, 256)       590080    \n",
            "_________________________________________________________________\n",
            "block3_conv3 (Conv2D)        (None, 56, 56, 256)       590080    \n",
            "_________________________________________________________________\n",
            "block3_conv4 (Conv2D)        (None, 56, 56, 256)       590080    \n",
            "_________________________________________________________________\n",
            "block3_pool (MaxPooling2D)   (None, 28, 28, 256)       0         \n",
            "_________________________________________________________________\n",
            "block4_conv1 (Conv2D)        (None, 28, 28, 512)       1180160   \n",
            "_________________________________________________________________\n",
            "block4_conv2 (Conv2D)        (None, 28, 28, 512)       2359808   \n",
            "_________________________________________________________________\n",
            "block4_conv3 (Conv2D)        (None, 28, 28, 512)       2359808   \n",
            "_________________________________________________________________\n",
            "block4_conv4 (Conv2D)        (None, 28, 28, 512)       2359808   \n",
            "_________________________________________________________________\n",
            "block4_pool (MaxPooling2D)   (None, 14, 14, 512)       0         \n",
            "_________________________________________________________________\n",
            "block5_conv1 (Conv2D)        (None, 14, 14, 512)       2359808   \n",
            "_________________________________________________________________\n",
            "block5_conv2 (Conv2D)        (None, 14, 14, 512)       2359808   \n",
            "_________________________________________________________________\n",
            "block5_conv3 (Conv2D)        (None, 14, 14, 512)       2359808   \n",
            "_________________________________________________________________\n",
            "block5_conv4 (Conv2D)        (None, 14, 14, 512)       2359808   \n",
            "_________________________________________________________________\n",
            "block5_pool (MaxPooling2D)   (None, 7, 7, 512)         0         \n",
            "=================================================================\n",
            "Total params: 20,024,384\n",
            "Trainable params: 20,024,384\n",
            "Non-trainable params: 0\n",
            "_________________________________________________________________\n"
          ],
          "name": "stdout"
        }
      ]
    },
    {
      "cell_type": "code",
      "metadata": {
        "id": "CHd7kTAksuhC",
        "colab_type": "code",
        "colab": {}
      },
      "source": [
        "# don't train existing weights\n",
        "for layer in vgg19.layers:\n",
        "  layer.trainable = False"
      ],
      "execution_count": 48,
      "outputs": []
    },
    {
      "cell_type": "code",
      "metadata": {
        "id": "wFDlE09UtSQ5",
        "colab_type": "code",
        "colab": {}
      },
      "source": [
        "# useful for getting number of output classes\n",
        "folders = glob('/content/drive/My Drive/Malaria Detection /Dataset/Train/*')"
      ],
      "execution_count": 49,
      "outputs": []
    },
    {
      "cell_type": "code",
      "metadata": {
        "id": "q48NoIQCt4Fo",
        "colab_type": "code",
        "colab": {
          "base_uri": "https://localhost:8080/",
          "height": 52
        },
        "outputId": "b92dbf8e-9968-4dc8-8b89-dd6325acb533"
      },
      "source": [
        "folders"
      ],
      "execution_count": 50,
      "outputs": [
        {
          "output_type": "execute_result",
          "data": {
            "text/plain": [
              "['/content/drive/My Drive/Malaria Detection /Dataset/Train/Parasite',\n",
              " '/content/drive/My Drive/Malaria Detection /Dataset/Train/Uninfected']"
            ]
          },
          "metadata": {
            "tags": []
          },
          "execution_count": 50
        }
      ]
    },
    {
      "cell_type": "code",
      "metadata": {
        "id": "yjyasDgxt5r3",
        "colab_type": "code",
        "colab": {}
      },
      "source": [
        "# our layers - you can add more if you want\n",
        "x = Flatten()(vgg19.output)"
      ],
      "execution_count": 51,
      "outputs": []
    },
    {
      "cell_type": "code",
      "metadata": {
        "id": "2ZZWe2YjvMuK",
        "colab_type": "code",
        "colab": {}
      },
      "source": [
        "prediction = Dense(len(folders),activation ='softmax')(x)\n",
        "\n",
        "#create a model object\n",
        "model = Model(inputs=vgg19.input,outputs=prediction)"
      ],
      "execution_count": 52,
      "outputs": []
    },
    {
      "cell_type": "code",
      "metadata": {
        "id": "T9nqZm12vtaY",
        "colab_type": "code",
        "colab": {
          "base_uri": "https://localhost:8080/",
          "height": 985
        },
        "outputId": "9179688f-c616-4d41-8ba9-ec075bf91454"
      },
      "source": [
        "#view the structure of the model\n",
        "model.summary()"
      ],
      "execution_count": 53,
      "outputs": [
        {
          "output_type": "stream",
          "text": [
            "Model: \"model_2\"\n",
            "_________________________________________________________________\n",
            "Layer (type)                 Output Shape              Param #   \n",
            "=================================================================\n",
            "input_3 (InputLayer)         [(None, 224, 224, 3)]     0         \n",
            "_________________________________________________________________\n",
            "block1_conv1 (Conv2D)        (None, 224, 224, 64)      1792      \n",
            "_________________________________________________________________\n",
            "block1_conv2 (Conv2D)        (None, 224, 224, 64)      36928     \n",
            "_________________________________________________________________\n",
            "block1_pool (MaxPooling2D)   (None, 112, 112, 64)      0         \n",
            "_________________________________________________________________\n",
            "block2_conv1 (Conv2D)        (None, 112, 112, 128)     73856     \n",
            "_________________________________________________________________\n",
            "block2_conv2 (Conv2D)        (None, 112, 112, 128)     147584    \n",
            "_________________________________________________________________\n",
            "block2_pool (MaxPooling2D)   (None, 56, 56, 128)       0         \n",
            "_________________________________________________________________\n",
            "block3_conv1 (Conv2D)        (None, 56, 56, 256)       295168    \n",
            "_________________________________________________________________\n",
            "block3_conv2 (Conv2D)        (None, 56, 56, 256)       590080    \n",
            "_________________________________________________________________\n",
            "block3_conv3 (Conv2D)        (None, 56, 56, 256)       590080    \n",
            "_________________________________________________________________\n",
            "block3_conv4 (Conv2D)        (None, 56, 56, 256)       590080    \n",
            "_________________________________________________________________\n",
            "block3_pool (MaxPooling2D)   (None, 28, 28, 256)       0         \n",
            "_________________________________________________________________\n",
            "block4_conv1 (Conv2D)        (None, 28, 28, 512)       1180160   \n",
            "_________________________________________________________________\n",
            "block4_conv2 (Conv2D)        (None, 28, 28, 512)       2359808   \n",
            "_________________________________________________________________\n",
            "block4_conv3 (Conv2D)        (None, 28, 28, 512)       2359808   \n",
            "_________________________________________________________________\n",
            "block4_conv4 (Conv2D)        (None, 28, 28, 512)       2359808   \n",
            "_________________________________________________________________\n",
            "block4_pool (MaxPooling2D)   (None, 14, 14, 512)       0         \n",
            "_________________________________________________________________\n",
            "block5_conv1 (Conv2D)        (None, 14, 14, 512)       2359808   \n",
            "_________________________________________________________________\n",
            "block5_conv2 (Conv2D)        (None, 14, 14, 512)       2359808   \n",
            "_________________________________________________________________\n",
            "block5_conv3 (Conv2D)        (None, 14, 14, 512)       2359808   \n",
            "_________________________________________________________________\n",
            "block5_conv4 (Conv2D)        (None, 14, 14, 512)       2359808   \n",
            "_________________________________________________________________\n",
            "block5_pool (MaxPooling2D)   (None, 7, 7, 512)         0         \n",
            "_________________________________________________________________\n",
            "flatten_4 (Flatten)          (None, 25088)             0         \n",
            "_________________________________________________________________\n",
            "dense_6 (Dense)              (None, 2)                 50178     \n",
            "=================================================================\n",
            "Total params: 20,074,562\n",
            "Trainable params: 50,178\n",
            "Non-trainable params: 20,024,384\n",
            "_________________________________________________________________\n"
          ],
          "name": "stdout"
        }
      ]
    },
    {
      "cell_type": "code",
      "metadata": {
        "id": "i-vPXIqzv4Tp",
        "colab_type": "code",
        "colab": {}
      },
      "source": [
        "from tensorflow.keras.layers import MaxPooling2D"
      ],
      "execution_count": 54,
      "outputs": []
    },
    {
      "cell_type": "code",
      "metadata": {
        "id": "biOKU5ACzTX1",
        "colab_type": "code",
        "colab": {
          "base_uri": "https://localhost:8080/",
          "height": 466
        },
        "outputId": "3a0a7e83-1e03-4bd1-e4f4-7d0c6ec7f761"
      },
      "source": [
        "### Create Model from scratch using CNN\n",
        "model=Sequential()\n",
        "model.add(Conv2D(filters=16,kernel_size=2,padding=\"same\",activation=\"relu\",input_shape=(224,224,3)))\n",
        "model.add(MaxPooling2D(pool_size=2))\n",
        "model.add(Conv2D(filters=32,kernel_size=2,padding=\"same\",activation =\"relu\"))\n",
        "model.add(MaxPooling2D(pool_size=2))\n",
        "model.add(Conv2D(filters=64,kernel_size=2,padding=\"same\",activation=\"relu\"))\n",
        "model.add(MaxPooling2D(pool_size=2))\n",
        "model.add(Flatten())\n",
        "model.add(Dense(500,activation=\"relu\"))\n",
        "model.add(Dense(2,activation=\"softmax\"))\n",
        "model.summary()"
      ],
      "execution_count": 55,
      "outputs": [
        {
          "output_type": "stream",
          "text": [
            "Model: \"sequential_2\"\n",
            "_________________________________________________________________\n",
            "Layer (type)                 Output Shape              Param #   \n",
            "=================================================================\n",
            "conv2d_6 (Conv2D)            (None, 224, 224, 16)      208       \n",
            "_________________________________________________________________\n",
            "max_pooling2d_6 (MaxPooling2 (None, 112, 112, 16)      0         \n",
            "_________________________________________________________________\n",
            "conv2d_7 (Conv2D)            (None, 112, 112, 32)      2080      \n",
            "_________________________________________________________________\n",
            "max_pooling2d_7 (MaxPooling2 (None, 56, 56, 32)        0         \n",
            "_________________________________________________________________\n",
            "conv2d_8 (Conv2D)            (None, 56, 56, 64)        8256      \n",
            "_________________________________________________________________\n",
            "max_pooling2d_8 (MaxPooling2 (None, 28, 28, 64)        0         \n",
            "_________________________________________________________________\n",
            "flatten_5 (Flatten)          (None, 50176)             0         \n",
            "_________________________________________________________________\n",
            "dense_7 (Dense)              (None, 500)               25088500  \n",
            "_________________________________________________________________\n",
            "dense_8 (Dense)              (None, 2)                 1002      \n",
            "=================================================================\n",
            "Total params: 25,100,046\n",
            "Trainable params: 25,100,046\n",
            "Non-trainable params: 0\n",
            "_________________________________________________________________\n"
          ],
          "name": "stdout"
        }
      ]
    },
    {
      "cell_type": "code",
      "metadata": {
        "id": "Qeg__3tFzVYG",
        "colab_type": "code",
        "colab": {}
      },
      "source": [
        "# tell the model what cost and optimization method to use\n",
        "model.compile(\n",
        "  loss='categorical_crossentropy',\n",
        "  optimizer='adam',\n",
        "  metrics=['accuracy']\n",
        ")"
      ],
      "execution_count": 56,
      "outputs": []
    },
    {
      "cell_type": "code",
      "metadata": {
        "id": "qJZnw8DQzaMk",
        "colab_type": "code",
        "colab": {}
      },
      "source": [
        "# Use the Image Data Generator to import the images from the dataset\n",
        "from tensorflow.keras.preprocessing.image import ImageDataGenerator\n",
        "\n",
        "train_datagen = ImageDataGenerator(rescale = 1./255,\n",
        "                                   shear_range = 0.2,\n",
        "                                   zoom_range = 0.2,\n",
        "                                   horizontal_flip = True)\n",
        "\n",
        "test_datagen = ImageDataGenerator(rescale = 1./255)"
      ],
      "execution_count": 57,
      "outputs": []
    },
    {
      "cell_type": "code",
      "metadata": {
        "id": "j0004CAA0TK0",
        "colab_type": "code",
        "colab": {
          "base_uri": "https://localhost:8080/",
          "height": 34
        },
        "outputId": "b2a20958-09fc-4fc2-a001-d93f63d9ed03"
      },
      "source": [
        "# Make sure you provide the same target size as initialied for the image size\n",
        "training_set = train_datagen.flow_from_directory('/content/drive/My Drive/Malaria Detection /Dataset/Train',\n",
        "                                                 target_size = (224, 224),\n",
        "                                                 batch_size = 32,\n",
        "                                                 class_mode = 'categorical')"
      ],
      "execution_count": 58,
      "outputs": [
        {
          "output_type": "stream",
          "text": [
            "Found 416 images belonging to 2 classes.\n"
          ],
          "name": "stdout"
        }
      ]
    },
    {
      "cell_type": "code",
      "metadata": {
        "id": "UVYOBBZM1LAu",
        "colab_type": "code",
        "colab": {
          "base_uri": "https://localhost:8080/",
          "height": 34
        },
        "outputId": "668b7612-6123-4b2a-db68-5478ce97515e"
      },
      "source": [
        "training_set"
      ],
      "execution_count": 59,
      "outputs": [
        {
          "output_type": "execute_result",
          "data": {
            "text/plain": [
              "<keras_preprocessing.image.directory_iterator.DirectoryIterator at 0x7fa4ebf1c748>"
            ]
          },
          "metadata": {
            "tags": []
          },
          "execution_count": 59
        }
      ]
    },
    {
      "cell_type": "code",
      "metadata": {
        "id": "yx85Zxdj2OuV",
        "colab_type": "code",
        "colab": {
          "base_uri": "https://localhost:8080/",
          "height": 34
        },
        "outputId": "e55d1bce-aab0-478d-c9cc-914aa7f28b4c"
      },
      "source": [
        "\n",
        "test_set = test_datagen.flow_from_directory('/content/drive/My Drive/Malaria Detection /Dataset/Test',\n",
        "                                            target_size = (224, 224),\n",
        "                                            batch_size = 32,\n",
        "                                            class_mode = 'categorical')"
      ],
      "execution_count": 60,
      "outputs": [
        {
          "output_type": "stream",
          "text": [
            "Found 134 images belonging to 2 classes.\n"
          ],
          "name": "stdout"
        }
      ]
    },
    {
      "cell_type": "code",
      "metadata": {
        "id": "cxl7qgOP2ST8",
        "colab_type": "code",
        "colab": {
          "base_uri": "https://localhost:8080/",
          "height": 363
        },
        "outputId": "54c8c0f5-ace2-4a8e-8e45-c47830829939"
      },
      "source": [
        "# fit the model\n",
        "# Run the cell. It will take some time to execute\n",
        "r = model.fit(\n",
        "  training_set,\n",
        "  validation_data=test_set,\n",
        "  epochs=10,\n",
        "  steps_per_epoch=len(training_set),\n",
        "  validation_steps=len(test_set)\n",
        ")"
      ],
      "execution_count": 63,
      "outputs": [
        {
          "output_type": "stream",
          "text": [
            "Epoch 1/10\n",
            "13/13 [==============================] - 16s 1s/step - loss: 0.6500 - accuracy: 0.6226 - val_loss: 0.7223 - val_accuracy: 0.3881\n",
            "Epoch 2/10\n",
            "13/13 [==============================] - 16s 1s/step - loss: 0.5676 - accuracy: 0.6731 - val_loss: 0.8728 - val_accuracy: 0.3731\n",
            "Epoch 3/10\n",
            "13/13 [==============================] - 16s 1s/step - loss: 0.5049 - accuracy: 0.7236 - val_loss: 0.8505 - val_accuracy: 0.4030\n",
            "Epoch 4/10\n",
            "13/13 [==============================] - 16s 1s/step - loss: 0.5376 - accuracy: 0.7019 - val_loss: 0.8185 - val_accuracy: 0.4478\n",
            "Epoch 5/10\n",
            "13/13 [==============================] - 16s 1s/step - loss: 0.4669 - accuracy: 0.7548 - val_loss: 1.0045 - val_accuracy: 0.4030\n",
            "Epoch 6/10\n",
            "13/13 [==============================] - 16s 1s/step - loss: 0.4164 - accuracy: 0.8005 - val_loss: 0.9080 - val_accuracy: 0.4851\n",
            "Epoch 7/10\n",
            "13/13 [==============================] - 16s 1s/step - loss: 0.4744 - accuracy: 0.7548 - val_loss: 0.6499 - val_accuracy: 0.5522\n",
            "Epoch 8/10\n",
            "13/13 [==============================] - 16s 1s/step - loss: 0.4651 - accuracy: 0.8005 - val_loss: 0.6375 - val_accuracy: 0.5970\n",
            "Epoch 9/10\n",
            "13/13 [==============================] - 16s 1s/step - loss: 0.3823 - accuracy: 0.8269 - val_loss: 1.1543 - val_accuracy: 0.4925\n",
            "Epoch 10/10\n",
            "13/13 [==============================] - 16s 1s/step - loss: 0.3607 - accuracy: 0.8678 - val_loss: 0.5409 - val_accuracy: 0.7015\n"
          ],
          "name": "stdout"
        }
      ]
    },
    {
      "cell_type": "code",
      "metadata": {
        "id": "3Qlg06kP3MWc",
        "colab_type": "code",
        "colab": {
          "base_uri": "https://localhost:8080/",
          "height": 530
        },
        "outputId": "4099efd4-03e3-47c1-b5df-0a13a7c57aee"
      },
      "source": [
        "# plot the loss\n",
        "plt.plot(r.history['loss'], label='train loss')\n",
        "plt.plot(r.history['val_loss'], label='val loss')\n",
        "plt.legend()\n",
        "plt.show()\n",
        "plt.savefig('LossVal_loss')\n",
        "\n",
        "# plot the accuracy\n",
        "plt.plot(r.history['accuracy'], label='train acc')\n",
        "plt.plot(r.history['val_accuracy'], label='val acc')\n",
        "plt.legend()\n",
        "plt.show()\n",
        "plt.savefig('AccVal_acc')"
      ],
      "execution_count": 64,
      "outputs": [
        {
          "output_type": "display_data",
          "data": {
            "image/png": "[encoded data removed]",
            "text/plain": [
              "<Figure size 432x288 with 1 Axes>"
            ]
          },
          "metadata": {
            "tags": [],
            "needs_background": "light"
          }
        },
        {
          "output_type": "display_data",
          "data": {
            "image/png": "[encoded data removed]",
            "text/plain": [
              "<Figure size 432x288 with 1 Axes>"
            ]
          },
          "metadata": {
            "tags": [],
            "needs_background": "light"
          }
        },
        {
          "output_type": "display_data",
          "data": {
            "text/plain": [
              "<Figure size 432x288 with 0 Axes>"
            ]
          },
          "metadata": {
            "tags": []
          }
        }
      ]
    },
    {
      "cell_type": "code",
      "metadata": {
        "id": "Jp5OS16w5-UW",
        "colab_type": "code",
        "colab": {}
      },
      "source": [
        "\n",
        "# save it as a h5 file\n",
        "\n",
        "\n",
        "from tensorflow.keras.models import load_model\n",
        "\n",
        "model.save('model_vgg19.h5')"
      ],
      "execution_count": 65,
      "outputs": []
    },
    {
      "cell_type": "code",
      "metadata": {
        "id": "cI_jk8gW8X8p",
        "colab_type": "code",
        "colab": {}
      },
      "source": [
        "\n",
        "y_pred = model.predict(test_set)"
      ],
      "execution_count": 66,
      "outputs": []
    },
    {
      "cell_type": "code",
      "metadata": {
        "id": "skMIfg6S8peC",
        "colab_type": "code",
        "colab": {
          "base_uri": "https://localhost:8080/",
          "height": 1000
        },
        "outputId": "e9a9e0d6-7f65-4244-c795-7cdedae0d57e"
      },
      "source": [
        "y_pred"
      ],
      "execution_count": 67,
      "outputs": [
        {
          "output_type": "execute_result",
          "data": {
            "text/plain": [
              "array([[0.4795796 , 0.5204204 ],\n",
              "       [0.89665085, 0.1033491 ],\n",
              "       [0.28061154, 0.7193885 ],\n",
              "       [0.97070676, 0.02929323],\n",
              "       [0.9890336 , 0.01096642],\n",
              "       [0.47800207, 0.5219979 ],\n",
              "       [0.3318567 , 0.66814333],\n",
              "       [0.7000734 , 0.29992658],\n",
              "       [0.28203154, 0.71796846],\n",
              "       [0.23796308, 0.76203686],\n",
              "       [0.28526422, 0.7147358 ],\n",
              "       [0.5219015 , 0.4780985 ],\n",
              "       [0.2664731 , 0.73352695],\n",
              "       [0.9078042 , 0.09219589],\n",
              "       [0.17241287, 0.8275872 ],\n",
              "       [0.3068767 , 0.6931233 ],\n",
              "       [0.1289146 , 0.8710854 ],\n",
              "       [0.17568015, 0.8243199 ],\n",
              "       [0.8114483 , 0.18855166],\n",
              "       [0.4803572 , 0.5196428 ],\n",
              "       [0.8677623 , 0.13223766],\n",
              "       [0.25934696, 0.74065304],\n",
              "       [0.30847925, 0.69152075],\n",
              "       [0.08041585, 0.9195842 ],\n",
              "       [0.14580764, 0.8541924 ],\n",
              "       [0.27160466, 0.7283953 ],\n",
              "       [0.4989874 , 0.5010126 ],\n",
              "       [0.36958542, 0.6304146 ],\n",
              "       [0.52439153, 0.47560847],\n",
              "       [0.23889843, 0.76110154],\n",
              "       [0.30625755, 0.6937425 ],\n",
              "       [0.14362808, 0.8563719 ],\n",
              "       [0.9875252 , 0.01247482],\n",
              "       [0.9924298 , 0.00757018],\n",
              "       [0.34061813, 0.6593819 ],\n",
              "       [0.98228735, 0.01771268],\n",
              "       [0.79611653, 0.2038835 ],\n",
              "       [0.9837585 , 0.01624145],\n",
              "       [0.2961938 , 0.70380616],\n",
              "       [0.475886  , 0.524114  ],\n",
              "       [0.885124  , 0.11487598],\n",
              "       [0.17493024, 0.8250698 ],\n",
              "       [0.25744286, 0.74255717],\n",
              "       [0.33521613, 0.6647839 ],\n",
              "       [0.20822114, 0.79177886],\n",
              "       [0.89338434, 0.10661565],\n",
              "       [0.28175697, 0.71824306],\n",
              "       [0.4813296 , 0.51867044],\n",
              "       [0.13637713, 0.86362284],\n",
              "       [0.98883665, 0.0111633 ],\n",
              "       [0.34900168, 0.6509983 ],\n",
              "       [0.757403  , 0.24259694],\n",
              "       [0.4311559 , 0.5688441 ],\n",
              "       [0.6487159 , 0.35128406],\n",
              "       [0.18691786, 0.8130822 ],\n",
              "       [0.27515575, 0.7248443 ],\n",
              "       [0.33090946, 0.66909057],\n",
              "       [0.9764097 , 0.02359027],\n",
              "       [0.7164891 , 0.28351095],\n",
              "       [0.26547644, 0.7345235 ],\n",
              "       [0.79812664, 0.20187338],\n",
              "       [0.2712935 , 0.7287065 ],\n",
              "       [0.11697973, 0.8830203 ],\n",
              "       [0.9137749 , 0.08622506],\n",
              "       [0.9878687 , 0.01213125],\n",
              "       [0.25863686, 0.7413631 ],\n",
              "       [0.44645095, 0.55354905],\n",
              "       [0.32277912, 0.6772209 ],\n",
              "       [0.8553123 , 0.14468765],\n",
              "       [0.58479553, 0.4152044 ],\n",
              "       [0.7600557 , 0.23994426],\n",
              "       [0.24537371, 0.7546263 ],\n",
              "       [0.33795127, 0.66204876],\n",
              "       [0.9290994 , 0.07090063],\n",
              "       [0.9464485 , 0.05355153],\n",
              "       [0.40117672, 0.5988233 ],\n",
              "       [0.33580205, 0.6641979 ],\n",
              "       [0.228278  , 0.7717221 ],\n",
              "       [0.2481823 , 0.75181776],\n",
              "       [0.20714526, 0.7928548 ],\n",
              "       [0.20726037, 0.7927396 ],\n",
              "       [0.9150304 , 0.08496961],\n",
              "       [0.30049   , 0.69951004],\n",
              "       [0.48277867, 0.5172214 ],\n",
              "       [0.41590008, 0.5841    ],\n",
              "       [0.14583781, 0.85416216],\n",
              "       [0.9656404 , 0.03435964],\n",
              "       [0.9680591 , 0.03194083],\n",
              "       [0.7093767 , 0.29062328],\n",
              "       [0.24743934, 0.7525607 ],\n",
              "       [0.49316287, 0.5068371 ],\n",
              "       [0.63965154, 0.36034852],\n",
              "       [0.48021686, 0.5197831 ],\n",
              "       [0.28627893, 0.7137211 ],\n",
              "       [0.21720034, 0.78279966],\n",
              "       [0.713075  , 0.286925  ],\n",
              "       [0.34788647, 0.6521135 ],\n",
              "       [0.33586   , 0.66414005],\n",
              "       [0.7912869 , 0.20871311],\n",
              "       [0.35146075, 0.64853925],\n",
              "       [0.3822185 , 0.6177815 ],\n",
              "       [0.6775917 , 0.32240835],\n",
              "       [0.39483348, 0.60516655],\n",
              "       [0.9693397 , 0.03066025],\n",
              "       [0.52594995, 0.47405005],\n",
              "       [0.22405581, 0.7759442 ],\n",
              "       [0.32835385, 0.6716462 ],\n",
              "       [0.34435266, 0.65564734],\n",
              "       [0.120877  , 0.87912303],\n",
              "       [0.6402522 , 0.35974783],\n",
              "       [0.8323064 , 0.16769366],\n",
              "       [0.6620854 , 0.3379145 ],\n",
              "       [0.5002416 , 0.49975836],\n",
              "       [0.2305205 , 0.7694795 ],\n",
              "       [0.18186589, 0.8181341 ],\n",
              "       [0.791825  , 0.20817506],\n",
              "       [0.51654816, 0.48345178],\n",
              "       [0.27852878, 0.72147125],\n",
              "       [0.46161416, 0.5383858 ],\n",
              "       [0.16454752, 0.8354525 ],\n",
              "       [0.27275443, 0.7272456 ],\n",
              "       [0.24753003, 0.75246996],\n",
              "       [0.8254043 , 0.1745957 ],\n",
              "       [0.5446806 , 0.45531943],\n",
              "       [0.8416972 , 0.15830275],\n",
              "       [0.29994228, 0.7000577 ],\n",
              "       [0.32090408, 0.67909586],\n",
              "       [0.2010934 , 0.7989066 ],\n",
              "       [0.6479565 , 0.3520435 ],\n",
              "       [0.91932   , 0.08068007],\n",
              "       [0.7754736 , 0.22452644],\n",
              "       [0.59522533, 0.40477473],\n",
              "       [0.32012233, 0.67987764],\n",
              "       [0.7897958 , 0.21020418]], dtype=float32)"
            ]
          },
          "metadata": {
            "tags": []
          },
          "execution_count": 67
        }
      ]
    },
    {
      "cell_type": "code",
      "metadata": {
        "id": "DBPI0eSH8sFG",
        "colab_type": "code",
        "colab": {}
      },
      "source": [
        "import numpy as np\n",
        "y_pred = np.argmax(y_pred, axis=1)"
      ],
      "execution_count": 68,
      "outputs": []
    },
    {
      "cell_type": "code",
      "metadata": {
        "id": "YP4kNg__9D5z",
        "colab_type": "code",
        "colab": {
          "base_uri": "https://localhost:8080/",
          "height": 138
        },
        "outputId": "64140a2c-6f3e-4378-c8f4-4eedcfda23b5"
      },
      "source": [
        "y_pred"
      ],
      "execution_count": 69,
      "outputs": [
        {
          "output_type": "execute_result",
          "data": {
            "text/plain": [
              "array([1, 0, 1, 0, 0, 1, 1, 0, 1, 1, 1, 0, 1, 0, 1, 1, 1, 1, 0, 1, 0, 1,\n",
              "       1, 1, 1, 1, 1, 1, 0, 1, 1, 1, 0, 0, 1, 0, 0, 0, 1, 1, 0, 1, 1, 1,\n",
              "       1, 0, 1, 1, 1, 0, 1, 0, 1, 0, 1, 1, 1, 0, 0, 1, 0, 1, 1, 0, 0, 1,\n",
              "       1, 1, 0, 0, 0, 1, 1, 0, 0, 1, 1, 1, 1, 1, 1, 0, 1, 1, 1, 1, 0, 0,\n",
              "       0, 1, 1, 0, 1, 1, 1, 0, 1, 1, 0, 1, 1, 0, 1, 0, 0, 1, 1, 1, 1, 0,\n",
              "       0, 0, 0, 1, 1, 0, 0, 1, 1, 1, 1, 1, 0, 0, 0, 1, 1, 1, 0, 0, 0, 0,\n",
              "       1, 0])"
            ]
          },
          "metadata": {
            "tags": []
          },
          "execution_count": 69
        }
      ]
    },
    {
      "cell_type": "markdown",
      "metadata": {
        "id": "YK3qR7c-_GuO",
        "colab_type": "text"
      },
      "source": [
        "**Cross Veryfing the model**"
      ]
    },
    {
      "cell_type": "code",
      "metadata": {
        "id": "ia_oidxE9Fg9",
        "colab_type": "code",
        "colab": {}
      },
      "source": [
        "from tensorflow.keras.models import load_model\n",
        "from tensorflow.keras.preprocessing import image"
      ],
      "execution_count": 70,
      "outputs": []
    },
    {
      "cell_type": "code",
      "metadata": {
        "id": "S4vNYw9I9l-E",
        "colab_type": "code",
        "colab": {}
      },
      "source": [
        "model=load_model('model_vgg19.h5')"
      ],
      "execution_count": 71,
      "outputs": []
    },
    {
      "cell_type": "code",
      "metadata": {
        "id": "GwbxLkWK9nyo",
        "colab_type": "code",
        "colab": {}
      },
      "source": [
        "img=image.load_img('/content/drive/My Drive/Malaria Detection /Dataset/Test/Uninfected/2.png',target_size=(224,224))"
      ],
      "execution_count": 73,
      "outputs": []
    },
    {
      "cell_type": "code",
      "metadata": {
        "id": "FivNA1X7-KOb",
        "colab_type": "code",
        "colab": {
          "base_uri": "https://localhost:8080/",
          "height": 864
        },
        "outputId": "412ec824-0611-43f8-995d-397de14ad145"
      },
      "source": [
        "x=image.img_to_array(img)\n",
        "x"
      ],
      "execution_count": 74,
      "outputs": [
        {
          "output_type": "execute_result",
          "data": {
            "text/plain": [
              "array([[[0., 0., 0.],\n",
              "        [0., 0., 0.],\n",
              "        [0., 0., 0.],\n",
              "        ...,\n",
              "        [0., 0., 0.],\n",
              "        [0., 0., 0.],\n",
              "        [0., 0., 0.]],\n",
              "\n",
              "       [[0., 0., 0.],\n",
              "        [0., 0., 0.],\n",
              "        [0., 0., 0.],\n",
              "        ...,\n",
              "        [0., 0., 0.],\n",
              "        [0., 0., 0.],\n",
              "        [0., 0., 0.]],\n",
              "\n",
              "       [[0., 0., 0.],\n",
              "        [0., 0., 0.],\n",
              "        [0., 0., 0.],\n",
              "        ...,\n",
              "        [0., 0., 0.],\n",
              "        [0., 0., 0.],\n",
              "        [0., 0., 0.]],\n",
              "\n",
              "       ...,\n",
              "\n",
              "       [[0., 0., 0.],\n",
              "        [0., 0., 0.],\n",
              "        [0., 0., 0.],\n",
              "        ...,\n",
              "        [0., 0., 0.],\n",
              "        [0., 0., 0.],\n",
              "        [0., 0., 0.]],\n",
              "\n",
              "       [[0., 0., 0.],\n",
              "        [0., 0., 0.],\n",
              "        [0., 0., 0.],\n",
              "        ...,\n",
              "        [0., 0., 0.],\n",
              "        [0., 0., 0.],\n",
              "        [0., 0., 0.]],\n",
              "\n",
              "       [[0., 0., 0.],\n",
              "        [0., 0., 0.],\n",
              "        [0., 0., 0.],\n",
              "        ...,\n",
              "        [0., 0., 0.],\n",
              "        [0., 0., 0.],\n",
              "        [0., 0., 0.]]], dtype=float32)"
            ]
          },
          "metadata": {
            "tags": []
          },
          "execution_count": 74
        }
      ]
    },
    {
      "cell_type": "code",
      "metadata": {
        "id": "vyq9ukdt-ZsA",
        "colab_type": "code",
        "colab": {
          "base_uri": "https://localhost:8080/",
          "height": 34
        },
        "outputId": "87e2837f-6f51-4b7c-9fda-d0e0411c2f5f"
      },
      "source": [
        "x.shape"
      ],
      "execution_count": 75,
      "outputs": [
        {
          "output_type": "execute_result",
          "data": {
            "text/plain": [
              "(224, 224, 3)"
            ]
          },
          "metadata": {
            "tags": []
          },
          "execution_count": 75
        }
      ]
    },
    {
      "cell_type": "code",
      "metadata": {
        "id": "92H000RA-uLu",
        "colab_type": "code",
        "colab": {}
      },
      "source": [
        "x=x/255"
      ],
      "execution_count": 76,
      "outputs": []
    },
    {
      "cell_type": "code",
      "metadata": {
        "id": "dXIulcjb-wQ1",
        "colab_type": "code",
        "colab": {
          "base_uri": "https://localhost:8080/",
          "height": 34
        },
        "outputId": "6b7a6107-b1fd-4388-b764-ab61d3359d20"
      },
      "source": [
        "x=np.expand_dims(x,axis=0)\n",
        "img_data=preprocess_input(x)\n",
        "img_data.shape"
      ],
      "execution_count": 77,
      "outputs": [
        {
          "output_type": "execute_result",
          "data": {
            "text/plain": [
              "(1, 224, 224, 3)"
            ]
          },
          "metadata": {
            "tags": []
          },
          "execution_count": 77
        }
      ]
    },
    {
      "cell_type": "code",
      "metadata": {
        "id": "mE6kVZDf-x6t",
        "colab_type": "code",
        "colab": {
          "base_uri": "https://localhost:8080/",
          "height": 34
        },
        "outputId": "8db342ce-757e-46ce-c781-711aa7a771cc"
      },
      "source": [
        "model.predict(img_data)"
      ],
      "execution_count": 78,
      "outputs": [
        {
          "output_type": "execute_result",
          "data": {
            "text/plain": [
              "array([[0., 1.]], dtype=float32)"
            ]
          },
          "metadata": {
            "tags": []
          },
          "execution_count": 78
        }
      ]
    },
    {
      "cell_type": "code",
      "metadata": {
        "id": "7Q91KON3-z8s",
        "colab_type": "code",
        "colab": {}
      },
      "source": [
        "a=np.argmax(model.predict(img_data), axis=1)"
      ],
      "execution_count": 79,
      "outputs": []
    },
    {
      "cell_type": "code",
      "metadata": {
        "id": "yFruwCCb-47h",
        "colab_type": "code",
        "colab": {
          "base_uri": "https://localhost:8080/",
          "height": 34
        },
        "outputId": "790c3b5d-92a5-47a9-dbb6-6dd82515fa3f"
      },
      "source": [
        "if(a==1):\n",
        "    print(\"Uninfected\")\n",
        "else:\n",
        "    print(\"Infected\")"
      ],
      "execution_count": 80,
      "outputs": [
        {
          "output_type": "stream",
          "text": [
            "Uninfected\n"
          ],
          "name": "stdout"
        }
      ]
    },
    {
      "cell_type": "code",
      "metadata": {
        "id": "RXdiGJcE-7nD",
        "colab_type": "code",
        "colab": {}
      },
      "source": [
        ""
      ],
      "execution_count": null,
      "outputs": []
    }
  ]
}